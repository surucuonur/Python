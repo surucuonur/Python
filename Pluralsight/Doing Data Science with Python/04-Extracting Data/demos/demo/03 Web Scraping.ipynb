{
 "cells": [
  {
   "cell_type": "markdown",
   "metadata": {},
   "source": [
    "## Extracting Data using Web Scraping "
   ]
  },
  {
   "cell_type": "code",
   "execution_count": 26,
   "metadata": {},
   "outputs": [],
   "source": [
    "# import \n",
    "import requests    \n",
    "from bs4 import BeautifulSoup "
   ]
  },
  {
   "cell_type": "code",
   "execution_count": 27,
   "metadata": {},
   "outputs": [],
   "source": [
    "# HTML String\n",
    "html_string = \"\"\"\n",
    "<!doctype html>\n",
    "<html lang=\"en\">\n",
    "<head>\n",
    "  <title>Doing Data Science With Python</title>\n",
    "</head>\n",
    "<body>\n",
    "  <h1 style=\"color:#F15B2A;\">Doing Data Science With Python</h1>\n",
    "  <p id=\"author\">Author : Onur Surucu</p>\n",
    "  <p id=\"description\">This course will help you to perform various data science activities using python.</p>\n",
    "  \n",
    "  <h3 style=\"color:#404040\">Modules</h3>\n",
    "  <table id=\"module\" style=\"width:100%\">\n",
    "      <tr>\n",
    "        <th>Title</th>\n",
    "        <th>Duration (In Minutes)</th> \n",
    "      </tr>\n",
    "      <tr>\n",
    "        <td>Getting Started</td>\n",
    "        <td>20</td> \n",
    "      </tr>\n",
    "      <tr>\n",
    "        <td>Setting up the Environment</td>\n",
    "        <td>40</td> \n",
    "      </tr>\n",
    "      <tr>\n",
    "        <td>Extracting Data</td>\n",
    "        <td>35</td> \n",
    "      </tr>\n",
    "      <tr>\n",
    "        <td>Exploring and Processing Data - Part 1</td>\n",
    "        <td>45</td> \n",
    "      </tr>\n",
    "      <tr>\n",
    "        <td>Exploring and Processing Data - Part 2</td>\n",
    "        <td>45</td> \n",
    "      </tr>\n",
    "      <tr>\n",
    "        <td>Building Predictive Model</td>\n",
    "        <td>30</td> \n",
    "      </tr>\n",
    "  </table>\n",
    "</body>\n",
    "</html>\n",
    "\"\"\""
   ]
  },
  {
   "cell_type": "code",
   "execution_count": 28,
   "metadata": {},
   "outputs": [
    {
     "data": {
      "text/html": [
       "\n",
       "<!doctype html>\n",
       "<html lang=\"en\">\n",
       "<head>\n",
       "  <title>Doing Data Science With Python</title>\n",
       "</head>\n",
       "<body>\n",
       "  <h1 style=\"color:#F15B2A;\">Doing Data Science With Python</h1>\n",
       "  <p id=\"author\">Author : Onur Surucu</p>\n",
       "  <p id=\"description\">This course will help you to perform various data science activities using python.</p>\n",
       "  \n",
       "  <h3 style=\"color:#404040\">Modules</h3>\n",
       "  <table id=\"module\" style=\"width:100%\">\n",
       "      <tr>\n",
       "        <th>Title</th>\n",
       "        <th>Duration (In Minutes)</th> \n",
       "      </tr>\n",
       "      <tr>\n",
       "        <td>Getting Started</td>\n",
       "        <td>20</td> \n",
       "      </tr>\n",
       "      <tr>\n",
       "        <td>Setting up the Environment</td>\n",
       "        <td>40</td> \n",
       "      </tr>\n",
       "      <tr>\n",
       "        <td>Extracting Data</td>\n",
       "        <td>35</td> \n",
       "      </tr>\n",
       "      <tr>\n",
       "        <td>Exploring and Processing Data - Part 1</td>\n",
       "        <td>45</td> \n",
       "      </tr>\n",
       "      <tr>\n",
       "        <td>Exploring and Processing Data - Part 2</td>\n",
       "        <td>45</td> \n",
       "      </tr>\n",
       "      <tr>\n",
       "        <td>Building Predictive Model</td>\n",
       "        <td>30</td> \n",
       "      </tr>\n",
       "  </table>\n",
       "</body>\n",
       "</html>\n"
      ],
      "text/plain": [
       "<IPython.core.display.HTML object>"
      ]
     },
     "metadata": {},
     "output_type": "display_data"
    }
   ],
   "source": [
    "# display HTML string in the juptyer notebook\n",
    "from IPython.core.display import display, HTML\n",
    "display(HTML(html_string))"
   ]
  },
  {
   "cell_type": "code",
   "execution_count": 29,
   "metadata": {},
   "outputs": [],
   "source": [
    "# use beautiful soup \n",
    "ps = BeautifulSoup(html_string)"
   ]
  },
  {
   "cell_type": "code",
   "execution_count": 30,
   "metadata": {},
   "outputs": [
    {
     "name": "stdout",
     "output_type": "stream",
     "text": [
      "<!DOCTYPE html>\n",
      "<html lang=\"en\">\n",
      "<head>\n",
      "<title>Doing Data Science With Python</title>\n",
      "</head>\n",
      "<body>\n",
      "<h1 style=\"color:#F15B2A;\">Doing Data Science With Python</h1>\n",
      "<p id=\"author\">Author : Onur Surucu</p>\n",
      "<p id=\"description\">This course will help you to perform various data science activities using python.</p>\n",
      "<h3 style=\"color:#404040\">Modules</h3>\n",
      "<table id=\"module\" style=\"width:100%\">\n",
      "<tr>\n",
      "<th>Title</th>\n",
      "<th>Duration (In Minutes)</th>\n",
      "</tr>\n",
      "<tr>\n",
      "<td>Getting Started</td>\n",
      "<td>20</td>\n",
      "</tr>\n",
      "<tr>\n",
      "<td>Setting up the Environment</td>\n",
      "<td>40</td>\n",
      "</tr>\n",
      "<tr>\n",
      "<td>Extracting Data</td>\n",
      "<td>35</td>\n",
      "</tr>\n",
      "<tr>\n",
      "<td>Exploring and Processing Data - Part 1</td>\n",
      "<td>45</td>\n",
      "</tr>\n",
      "<tr>\n",
      "<td>Exploring and Processing Data - Part 2</td>\n",
      "<td>45</td>\n",
      "</tr>\n",
      "<tr>\n",
      "<td>Building Predictive Model</td>\n",
      "<td>30</td>\n",
      "</tr>\n",
      "</table>\n",
      "</body>\n",
      "</html>\n",
      "\n"
     ]
    }
   ],
   "source": [
    "# print b\n",
    "print(ps)"
   ]
  },
  {
   "cell_type": "code",
   "execution_count": 31,
   "metadata": {},
   "outputs": [],
   "source": [
    "# use name parameter to select by tag name\n",
    "body = ps.find(name=\"body\")"
   ]
  },
  {
   "cell_type": "code",
   "execution_count": 32,
   "metadata": {},
   "outputs": [
    {
     "name": "stdout",
     "output_type": "stream",
     "text": [
      "<body>\n",
      "<h1 style=\"color:#F15B2A;\">Doing Data Science With Python</h1>\n",
      "<p id=\"author\">Author : Onur Surucu</p>\n",
      "<p id=\"description\">This course will help you to perform various data science activities using python.</p>\n",
      "<h3 style=\"color:#404040\">Modules</h3>\n",
      "<table id=\"module\" style=\"width:100%\">\n",
      "<tr>\n",
      "<th>Title</th>\n",
      "<th>Duration (In Minutes)</th>\n",
      "</tr>\n",
      "<tr>\n",
      "<td>Getting Started</td>\n",
      "<td>20</td>\n",
      "</tr>\n",
      "<tr>\n",
      "<td>Setting up the Environment</td>\n",
      "<td>40</td>\n",
      "</tr>\n",
      "<tr>\n",
      "<td>Extracting Data</td>\n",
      "<td>35</td>\n",
      "</tr>\n",
      "<tr>\n",
      "<td>Exploring and Processing Data - Part 1</td>\n",
      "<td>45</td>\n",
      "</tr>\n",
      "<tr>\n",
      "<td>Exploring and Processing Data - Part 2</td>\n",
      "<td>45</td>\n",
      "</tr>\n",
      "<tr>\n",
      "<td>Building Predictive Model</td>\n",
      "<td>30</td>\n",
      "</tr>\n",
      "</table>\n",
      "</body>\n"
     ]
    }
   ],
   "source": [
    "print(body)"
   ]
  },
  {
   "cell_type": "code",
   "execution_count": 33,
   "metadata": {},
   "outputs": [
    {
     "name": "stdout",
     "output_type": "stream",
     "text": [
      "Doing Data Science With Python\n"
     ]
    }
   ],
   "source": [
    "# use text attribute to get the content of the tag\n",
    "print(body.find(name=\"h1\").text)"
   ]
  },
  {
   "cell_type": "code",
   "execution_count": 34,
   "metadata": {},
   "outputs": [
    {
     "name": "stdout",
     "output_type": "stream",
     "text": [
      "<p id=\"author\">Author : Onur Surucu</p>\n"
     ]
    }
   ],
   "source": [
    "# gets only first matching element\n",
    "print(body.find(name=\"p\"))"
   ]
  },
  {
   "cell_type": "code",
   "execution_count": 35,
   "metadata": {},
   "outputs": [
    {
     "name": "stdout",
     "output_type": "stream",
     "text": [
      "[<p id=\"author\">Author : Onur Surucu</p>, <p id=\"description\">This course will help you to perform various data science activities using python.</p>]\n"
     ]
    }
   ],
   "source": [
    "# get all elements\n",
    "print(body.findAll(name=\"p\"))"
   ]
  },
  {
   "cell_type": "code",
   "execution_count": 36,
   "metadata": {},
   "outputs": [
    {
     "name": "stdout",
     "output_type": "stream",
     "text": [
      "Author : Onur Surucu\n",
      "This course will help you to perform various data science activities using python.\n"
     ]
    }
   ],
   "source": [
    "# loop through each element\n",
    "# Finding specific 'p' through 'p' elements\n",
    "for p in body.findAll(name=\"p\"):\n",
    "    print(p.text)"
   ]
  },
  {
   "cell_type": "code",
   "execution_count": 12,
   "metadata": {},
   "outputs": [
    {
     "name": "stdout",
     "output_type": "stream",
     "text": [
      "<p id=\"author\">Author : Abhishek Kumar</p>\n"
     ]
    }
   ],
   "source": [
    "# add attributes in the selection process\n",
    "#So you can narrow down your selections\n",
    "print(body.find(name='p', attrs={\"id\":\"author\"}))"
   ]
  },
  {
   "cell_type": "code",
   "execution_count": 13,
   "metadata": {},
   "outputs": [
    {
     "name": "stdout",
     "output_type": "stream",
     "text": [
      "<p id=\"description\">This course will help you to perform various data science activities using python.</p>\n"
     ]
    }
   ],
   "source": [
    "print(body.find(name='p', attrs={\"id\":\"description\"}))"
   ]
  },
  {
   "cell_type": "code",
   "execution_count": 14,
   "metadata": {},
   "outputs": [
    {
     "name": "stdout",
     "output_type": "stream",
     "text": [
      "Getting Started 20\n",
      "Setting up the Environment 40\n",
      "Extracting Data 35\n",
      "Exploring and Processing Data - Part 1 45\n",
      "Exploring and Processing Data - Part 2 45\n",
      "Building Predictive Model 30\n"
     ]
    }
   ],
   "source": [
    "# body\n",
    "body = ps.find(name=\"body\")\n",
    "# module table\n",
    "module_table = body.find(name='table', attrs={\"id\": \"module\"})\n",
    "# iterate through each row in the table (skipping the first row)\n",
    "for row in module_table.findAll(name='tr')[1:]:\n",
    "    # module title\n",
    "    title = row.findAll(name='td')[0].text\n",
    "    # module duration\n",
    "    duration = int(row.findAll(name='td')[1].text)\n",
    "    print title, duration"
   ]
  }
 ],
 "metadata": {
  "anaconda-cloud": {},
  "hide_input": false,
  "kernelspec": {
   "display_name": "Python 3",
   "language": "python",
   "name": "python3"
  },
  "language_info": {
   "codemirror_mode": {
    "name": "ipython",
    "version": 3
   },
   "file_extension": ".py",
   "mimetype": "text/x-python",
   "name": "python",
   "nbconvert_exporter": "python",
   "pygments_lexer": "ipython3",
   "version": "3.7.6"
  },
  "toc": {
   "nav_menu": {
    "height": "30px",
    "width": "252px"
   },
   "navigate_menu": true,
   "number_sections": false,
   "sideBar": true,
   "threshold": 4,
   "toc_cell": false,
   "toc_section_display": "block",
   "toc_window_display": false
  }
 },
 "nbformat": 4,
 "nbformat_minor": 1
}

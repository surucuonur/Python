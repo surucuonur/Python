{
 "metadata": {
  "language_info": {
   "codemirror_mode": {
    "name": "ipython",
    "version": 3
   },
   "file_extension": ".py",
   "mimetype": "text/x-python",
   "name": "python",
   "nbconvert_exporter": "python",
   "pygments_lexer": "ipython3",
   "version": "3.7.6-final"
  },
  "orig_nbformat": 2,
  "kernelspec": {
   "name": "python3",
   "display_name": "Python 3.7.6 64-bit ('base': conda)",
   "metadata": {
    "interpreter": {
     "hash": "d48c7bdae873f1c2f85b053c005cb0467203ab6c325afd72fd70f1bdbbf87920"
    }
   }
  }
 },
 "nbformat": 4,
 "nbformat_minor": 2,
 "cells": [
  {
   "source": [
    "# Object Oriented Programming Tricks & Essentials\n",
    "\n",
    "The author: Onur Surucu\n",
    "\n",
    "The information inside is a collection and interpretation of external online sources."
   ],
   "cell_type": "markdown",
   "metadata": {}
  },
  {
   "source": [
    "### Differences between class and instance variable"
   ],
   "cell_type": "markdown",
   "metadata": {}
  },
  {
   "cell_type": "code",
   "execution_count": 7,
   "metadata": {},
   "outputs": [
    {
     "output_type": "stream",
     "name": "stdout",
     "text": [
      "70\n75\nTrue\n"
     ]
    }
   ],
   "source": [
    "class Student:\n",
    "    # CLASS VARIABLES\n",
    "    num_of_students = 0\n",
    "    class_limit = 5\n",
    "\n",
    "    def __init__(self, first, last, grade):\n",
    "        # INSTANCE VARIABLES\n",
    "        self.first = first\n",
    "        self.last = last\n",
    "        self.grade = grade\n",
    "\n",
    "        # increase the number of students as new instances are added.\n",
    "        Student.num_of_students += 1\n",
    "    \n",
    "    # Instance method \n",
    "    def fullname(self):\n",
    "        return '{} {}'.format(self.first, self.last)\n",
    "\n",
    "    # Class method\n",
    "    @classmethod\n",
    "    def set_class_limit(cls, amount):\n",
    "        cls.raise_amt = amount\n",
    "\n",
    "    # A regular method that isn't attached to class or instance.\n",
    "    @staticmethod\n",
    "    def is_schoolday(day):\n",
    "        if day.weekday() == 5 or day.weekday() == 6:\n",
    "            return False\n",
    "        return True\n",
    "\n",
    "\n",
    "student_1 = Student('Onur', 'Surucu', 70)\n",
    "student_2 = Student('Uygar', 'Yeprem', 75)\n",
    "\n",
    "Student.class_limit = 10\n",
    "\n",
    "print(student_1.grade)\n",
    "print(student_2.grade)\n",
    "\n",
    "import datetime\n",
    "my_date = datetime.date(2016, 7, 11)\n",
    "\n",
    "print(Student.is_schoolday(my_date))"
   ]
  },
  {
   "source": [
    "### Inheritences\n",
    "Author: Corey Schafer.  \n",
    "An example of using inheritance correctly to have a DRY code."
   ],
   "cell_type": "markdown",
   "metadata": {}
  },
  {
   "cell_type": "code",
   "execution_count": 9,
   "metadata": {},
   "outputs": [
    {
     "output_type": "stream",
     "name": "stdout",
     "text": [
      "Sue.Smith@email.com\n--> Corey Schafer\n"
     ]
    }
   ],
   "source": [
    "class Employee:\n",
    "\n",
    "    raise_amt = 1.04\n",
    "\n",
    "    def __init__(self, first, last, pay):\n",
    "        self.first = first\n",
    "        self.last = last\n",
    "        self.email = first + '.' + last + '@email.com'\n",
    "        self.pay = pay\n",
    "\n",
    "    def fullname(self):\n",
    "        return '{} {}'.format(self.first, self.last)\n",
    "\n",
    "    def apply_raise(self):\n",
    "        self.pay = int(self.pay * self.raise_amt)\n",
    "\n",
    "\n",
    "class Developer(Employee):\n",
    "    raise_amt = 1.10\n",
    "\n",
    "    def __init__(self, first, last, pay, prog_lang):\n",
    "        super().__init__(first, last, pay)\n",
    "        self.prog_lang = prog_lang\n",
    "\n",
    "\n",
    "class Manager(Employee):\n",
    "\n",
    "    def __init__(self, first, last, pay, employees=None):\n",
    "        super().__init__(first, last, pay)\n",
    "        if employees is None:\n",
    "            self.employees = []\n",
    "        else:\n",
    "            self.employees = employees\n",
    "\n",
    "    def add_emp(self, emp):\n",
    "        if emp not in self.employees:\n",
    "            self.employees.append(emp)\n",
    "\n",
    "    def remove_emp(self, emp):\n",
    "        if emp in self.employees:\n",
    "            self.employees.remove(emp)\n",
    "\n",
    "    def print_emps(self):\n",
    "        for emp in self.employees:\n",
    "            print('-->', emp.fullname())\n",
    "\n",
    "\n",
    "dev_1 = Developer('Corey', 'Schafer', 50000, 'Python')\n",
    "dev_2 = Developer('Test', 'Employee', 60000, 'Java')\n",
    "\n",
    "mgr_1 = Manager('Sue', 'Smith', 90000, [dev_1])\n",
    "\n",
    "print(mgr_1.email)\n",
    "\n",
    "mgr_1.add_emp(dev_2)\n",
    "mgr_1.remove_emp(dev_2)\n",
    "\n",
    "mgr_1.print_emps()"
   ]
  },
  {
   "cell_type": "code",
   "execution_count": 24,
   "metadata": {},
   "outputs": [
    {
     "output_type": "stream",
     "name": "stdout",
     "text": [
      "Help on Manager in module __main__ object:\n\nclass Manager(Employee)\n |  Manager(first, last, pay, employees=None)\n |  \n |  Method resolution order:\n |      Manager\n |      Employee\n |      builtins.object\n |  \n |  Methods defined here:\n |  \n |  __init__(self, first, last, pay, employees=None)\n |      Initialize self.  See help(type(self)) for accurate signature.\n |  \n |  add_emp(self, emp)\n |  \n |  print_emps(self)\n |  \n |  remove_emp(self, emp)\n |  \n |  ----------------------------------------------------------------------\n |  Methods inherited from Employee:\n |  \n |  apply_raise(self)\n |  \n |  fullname(self)\n |  \n |  ----------------------------------------------------------------------\n |  Data descriptors inherited from Employee:\n |  \n |  __dict__\n |      dictionary for instance variables (if defined)\n |  \n |  __weakref__\n |      list of weak references to the object (if defined)\n |  \n |  ----------------------------------------------------------------------\n |  Data and other attributes inherited from Employee:\n |  \n |  raise_amt = 1.04\n\n"
     ]
    }
   ],
   "source": [
    "# You can check the inheritance, atributes and many more buy using help builtin function\n",
    "help(mgr_1)"
   ]
  },
  {
   "cell_type": "code",
   "execution_count": 26,
   "metadata": {},
   "outputs": [
    {
     "output_type": "execute_result",
     "data": {
      "text/plain": [
       "True"
      ]
     },
     "metadata": {},
     "execution_count": 26
    }
   ],
   "source": [
    "# Also checking for being instance of a specific class or not\n",
    "isinstance(mgr_1, Manager)"
   ]
  },
  {
   "source": [
    "## Magic/Dunder Functions"
   ],
   "cell_type": "markdown",
   "metadata": {}
  },
  {
   "cell_type": "code",
   "execution_count": 12,
   "metadata": {},
   "outputs": [
    {
     "output_type": "stream",
     "name": "stdout",
     "text": [
      "<__main__.Animals object at 0x7f88c10eca50>\n"
     ]
    }
   ],
   "source": [
    "# __repr__: is a dunder function to represent objects in a readable way for logging or debugging purposes.\n",
    "def __repr__():\n",
    "    pass\n",
    "\n",
    "class Animals:\n",
    "    def __init__(self, name):\n",
    "        self.name = name\n",
    "\n",
    "monkey = Animals(\"monkey\")\n",
    "# Before initializing the __repr__ function the ouput is the instance's location\n",
    "print(monkey)"
   ]
  },
  {
   "cell_type": "code",
   "execution_count": 17,
   "metadata": {},
   "outputs": [
    {
     "output_type": "stream",
     "name": "stdout",
     "text": [
      "monkey\nmonkey\n"
     ]
    }
   ],
   "source": [
    "# __repr__: is a dunder function to represent objects in a readable way for logging or debugging purposes.\n",
    "\n",
    "class Animals:\n",
    "    def __init__(self, name):\n",
    "        self.name = name\n",
    "    def __repr__(self):\n",
    "        return f\"{self.name}\"\n",
    "    \n",
    "monkey = Animals(\"monkey\")\n",
    "\n",
    "# This time prints out what we told so. \n",
    "print(monkey)\n",
    "\n",
    "# Also specifically, you can access them alternatively.\n",
    "str(monkey)\n",
    "print(monkey.__repr__())"
   ]
  },
  {
   "cell_type": "code",
   "execution_count": 21,
   "metadata": {},
   "outputs": [
    {
     "output_type": "stream",
     "name": "stdout",
     "text": [
      "4\n4\naa\naa\n"
     ]
    }
   ],
   "source": [
    "# __str__: is a dunder function to represent objects in a readable way for users.\n",
    "def __str__():\n",
    "    pas\n",
    "\n",
    "# __add__: is the addition for int functions.\n",
    "print(2+2)\n",
    "print(int.__add__(2,2))\n",
    "\n",
    "# String objects use different dunder add\n",
    "print(\"a\"+\"a\")\n",
    "print(str.__add__(\"a\",\"a\"))"
   ]
  },
  {
   "source": [
    "#### There are a list of numeric methods to be modified\n",
    "\n",
    "https://docs.python.org/3/reference/datamodel.html\n",
    "\n",
    "(+, -, *, @, /, //, %, divmod(), pow(), **, <<, >>, &, ^, |)\n",
    "\n",
    "\n",
    "object.__add__(self, other)  \n",
    "object.__sub__(self, other)  \n",
    "object.__mul__(self, other)  \n",
    "object.__matmul__(self, other)  \n",
    "object.__truediv__(self, other)  \n",
    "object.__floordiv__(self, other)  \n",
    "object.__mod__(self, other)  \n",
    "object.__divmod__(self, other)  \n",
    "object.__pow__(self, other[, modulo])  \n",
    "object.__lshift__(self, other)  \n",
    "object.__rshift__(self, other)  \n",
    "object.__and__(self, other)  \n",
    "object.__xor__(self, other)  \n",
    "object.__or__(self, other)  "
   ],
   "cell_type": "markdown",
   "metadata": {}
  },
  {
   "source": [
    "## Decorators"
   ],
   "cell_type": "markdown",
   "metadata": {}
  },
  {
   "cell_type": "code",
   "execution_count": 27,
   "metadata": {},
   "outputs": [
    {
     "output_type": "stream",
     "name": "stdout",
     "text": [
      "Corey\nCorey.Schafer@email.com\nCorey Schafer\nDelete Name!\n"
     ]
    }
   ],
   "source": [
    "\n",
    "class Employee:\n",
    "\n",
    "    def __init__(self, first, last):\n",
    "        self.first = first\n",
    "        self.last = last\n",
    "\n",
    "    # Property: From now om, you can use this function as a attribute of the class\n",
    "    @property\n",
    "    def email(self):\n",
    "        return '{}.{}@email.com'.format(self.first, self.last)\n",
    "\n",
    "    @property\n",
    "    def fullname(self):\n",
    "        return '{} {}'.format(self.first, self.last)\n",
    "    # Setter: From now on, you can set values from outside of the class. \n",
    "    @fullname.setter\n",
    "    def fullname(self, name):\n",
    "        first, last = name.split(' ')\n",
    "        self.first = first\n",
    "        self.last = last\n",
    "    # Deleter: From now on, you can delete the attributes of the class.\n",
    "    @fullname.deleter\n",
    "    def fullname(self):\n",
    "        print('Name is deleted!')\n",
    "        self.first = None\n",
    "        self.last = None\n",
    "\n",
    "\n",
    "emp_1 = Employee('John', 'Smith')\n",
    "emp_1.fullname = \"Corey Schafer\"\n",
    "\n",
    "print(emp_1.first)\n",
    "print(emp_1.email)\n",
    "print(emp_1.fullname)\n",
    "\n",
    "# execute the delete function\n",
    "del emp_1.fullname\n",
    "\n",
    "# Thus, we can change the attributes of the class easilty whith a small effort."
   ]
  }
 ]
}
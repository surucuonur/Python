{
 "cells": [
  {
   "cell_type": "markdown",
   "metadata": {},
   "source": [
    "<h1>Python Tips and Tricks<h1>\n",
    "   "
   ]
  },
  {
   "cell_type": "markdown",
   "metadata": {},
   "source": [
    "### Printing object as a list"
   ]
  },
  {
   "cell_type": "code",
   "execution_count": 52,
   "metadata": {},
   "outputs": [
    {
     "name": "stdout",
     "output_type": "stream",
     "text": [
      "[('Peter Parkere', 'Spiderman'), ('Clark Kent', 'Superman'), ('Wade Wilson', 'Dead Pool')]\n",
      "<zip object at 0x7fae6008bdc0>\n"
     ]
    }
   ],
   "source": [
    "names = ['Peter Parkere', 'Clark Kent', 'Wade Wilson']\n",
    "heroes = ['Spiderman', 'Superman', 'Dead Pool']\n",
    "\n",
    "identities = zip(names, heroes)\n",
    "\n",
    "# if we dont use list() it will just output object number\n",
    "# print(identities)\n",
    "print(list(identities))\n",
    "\n",
    "for identitity in identities:\n",
    "    print('{} is actually {}!'.format(identity[0], identity[1]))\n",
    "    \n"
   ]
  },
  {
   "cell_type": "markdown",
   "metadata": {},
   "source": [
    "### Intializing an empty list in a function"
   ]
  },
  {
   "cell_type": "code",
   "execution_count": 1,
   "metadata": {},
   "outputs": [
    {
     "output_type": "stream",
     "name": "stdout",
     "text": [
      "['John', 'Jane', 'Corey']\n['John']\n['John', 'Jane']\n"
     ]
    }
   ],
   "source": [
    "def add_employee(emp, emp_list=[]):\n",
    "    emp_list.append(emp)\n",
    "    print(emp_list)\n",
    "    \n",
    "emp = ['John', 'Jane']\n",
    "add_employee('Corey', emp)\n",
    "# using emp_list[] as a default\n",
    "add_employee('John')\n",
    "add_employee('Jane')\n",
    "#it doesnt give any initialize an empty list"
   ]
  },
  {
   "cell_type": "code",
   "execution_count": 2,
   "metadata": {},
   "outputs": [
    {
     "output_type": "stream",
     "name": "stdout",
     "text": [
      "['John', 'Jane', 'Corey']\n['John']\n['Jane']\n"
     ]
    }
   ],
   "source": [
    "# instead of passing in an mutable (can be changed) default type \n",
    "# we are initializing a new empty list inside the function\n",
    "\n",
    "#to fix it use:\n",
    "def add_employee(emp, emp_list=None):\n",
    "    if emp_list is None:\n",
    "        emp_list = []\n",
    "    emp_list.append(emp)\n",
    "    print(emp_list)\n",
    "\n",
    "emp = ['John', 'Jane']\n",
    "add_employee('Corey', emp)\n",
    "# using emp_list[] as a default\n",
    "add_employee('John')\n",
    "add_employee('Jane')\n"
   ]
  },
  {
   "cell_type": "markdown",
   "metadata": {},
   "source": [
    "## Tips"
   ]
  },
  {
   "cell_type": "markdown",
   "metadata": {},
   "source": [
    "Tips for shorten the total lines in our code."
   ]
  },
  {
   "cell_type": "code",
   "execution_count": null,
   "metadata": {},
   "outputs": [],
   "source": [
    "condition = False\n",
    "\n",
    "if condition:\n",
    "    x = 1\n",
    "else:\n",
    "    x = 0\n",
    "    \n",
    "print(x)\n",
    "\n",
    "# Using turnary conditionals\n",
    "# simplified to only one line\n",
    "x = 1 if condition else 0\n",
    "\n",
    "print(x)"
   ]
  },
  {
   "cell_type": "markdown",
   "metadata": {},
   "source": [
    "#### Making numbers more readable by separating them with comma"
   ]
  },
  {
   "cell_type": "code",
   "execution_count": 3,
   "metadata": {},
   "outputs": [
    {
     "output_type": "stream",
     "name": "stdout",
     "text": [
      "10,100,000\n"
     ]
    }
   ],
   "source": [
    "# making big numbers more readable\n",
    "\n",
    "num1 = 10_000_000\n",
    "num2 = 100_000\n",
    "\n",
    "total = num1 + num2\n",
    "\n",
    "print(f'{total:,}')\n"
   ]
  },
  {
   "cell_type": "markdown",
   "metadata": {},
   "source": [
    "#### Using context manager to code cleaner when opening something"
   ]
  },
  {
   "cell_type": "code",
   "execution_count": null,
   "metadata": {},
   "outputs": [],
   "source": [
    "### using context manager\n",
    "\n",
    "\"\"\"\n",
    "\n",
    "f = open('test.txt', 'r')\n",
    "file_contents = f.read()\n",
    "f.close()\n",
    "\n",
    "\n",
    "with open('test.txt', 'r') as f:\n",
    "    file_contents = f.read()\n",
    "\n",
    "\"\"\"\n",
    "\n",
    "\n"
   ]
  },
  {
   "cell_type": "markdown",
   "metadata": {},
   "source": [
    "#### Using enumerator to iterate through list with the index "
   ]
  },
  {
   "cell_type": "code",
   "execution_count": 28,
   "metadata": {},
   "outputs": [
    {
     "name": "stdout",
     "output_type": "stream",
     "text": [
      "0 Corey\n",
      "1 Chris\n",
      "2 Dave\n",
      "3 Travis\n",
      "1 Corey\n",
      "2 Chris\n",
      "3 Dave\n",
      "4 Travis\n"
     ]
    }
   ],
   "source": [
    "names = ['Corey', 'Chris', 'Dave', 'Travis']\n",
    "\n",
    "# amateur way: (False)\n",
    "index = 0\n",
    "for name in names:\n",
    "    print(index, name)\n",
    "    index += 1\n",
    "\n",
    "\n",
    "# Iterating by using enumerator (True)\n",
    "for index, name in enumerate(names, start = 1):\n",
    "    print(index, name)"
   ]
  },
  {
   "cell_type": "markdown",
   "metadata": {},
   "source": [
    "#### Iterating through multiple lists\n"
   ]
  },
  {
   "cell_type": "code",
   "execution_count": 29,
   "metadata": {},
   "outputs": [
    {
     "name": "stdout",
     "output_type": "stream",
     "text": [
      "Peter Parkere is actually Spiderman\n",
      "Clark Kent is actually Superman\n",
      "Wade Wilson is actually Dead Pool\n",
      "Peter Parkere is actually Spiderman\n",
      "Clark Kent is actually Superman\n",
      "Wade Wilson is actually Dead Pool\n"
     ]
    }
   ],
   "source": [
    "names = ['Peter Parkere', 'Clark Kent', 'Wade Wilson']\n",
    "heroes = ['Spiderman', 'Superman', 'Dead Pool']\n",
    "\n",
    "# Even though it works its not intuitive (False)\n",
    "for index, name in enumerate(names):\n",
    "    hero = heroes[index]\n",
    "    print(f'{name} is actually {hero}')\n",
    "    \n",
    "# Right way is to use zip function (True)\n",
    "for name, hero in zip(names, heroes):\n",
    "    print(f'{name} is actually {hero}')"
   ]
  },
  {
   "cell_type": "markdown",
   "metadata": {},
   "source": [
    "#### Unpacking "
   ]
  },
  {
   "cell_type": "code",
   "execution_count": 55,
   "metadata": {},
   "outputs": [
    {
     "name": "stdout",
     "output_type": "stream",
     "text": [
      "1\n",
      "2\n",
      "1\n",
      "value of c: [3, 4, 5]\n"
     ]
    },
    {
     "data": {
      "text/plain": [
       "5"
      ]
     },
     "execution_count": 55,
     "metadata": {},
     "output_type": "execute_result"
    }
   ],
   "source": [
    "a, b = (1, 2)\n",
    "print(a)\n",
    "print(b)\n",
    "\n",
    "# Use underscore to assign only a to 1 \n",
    "a, _ = (1, 2)\n",
    "print(a)\n",
    "\n",
    "# the rest of the data will be assigned to variable c\n",
    "a, b, *c = (1, 2, 3, 4, 5)\n",
    "\n",
    "print(\"value of c:\",c)\n",
    "\n",
    "\n",
    "#dictionary unpacking \n",
    "#ML classifier algoritmalarinda trainer'a parameter olarak dictionary verdigin zaman ise yariyo\n",
    "def add(a=0, b=0):\n",
    "    return a + b\n",
    "    \n",
    "my_dict = {'a':1,'b':4}\n",
    "\n",
    "add(**my_dict)\n"
   ]
  },
  {
   "cell_type": "markdown",
   "metadata": {},
   "source": [
    "#### Setting and getting attributes"
   ]
  },
  {
   "cell_type": "code",
   "execution_count": 41,
   "metadata": {},
   "outputs": [
    {
     "name": "stdout",
     "output_type": "stream",
     "text": [
      "Corey\n",
      "Schafer \n",
      "\n",
      "Corey\n",
      "Schafer\n"
     ]
    }
   ],
   "source": [
    "class Person():\n",
    "    pass\n",
    "\n",
    "person = Person()\n",
    "\n",
    "person_info = {'first': 'Corey', 'last': 'Schafer'}\n",
    "\n",
    "for key, value in person_info.items():\n",
    "    setattr(person, key, value)\n",
    "    \n",
    "print(person.first)\n",
    "print(person.last, \"\\n\")\n",
    "\n",
    "for key in person_info.keys():\n",
    "    print(getattr(person, key))\n"
   ]
  },
  {
   "cell_type": "markdown",
   "metadata": {},
   "source": [
    "## Iteration"
   ]
  },
  {
   "cell_type": "code",
   "execution_count": 50,
   "metadata": {},
   "outputs": [
    {
     "name": "stdout",
     "output_type": "stream",
     "text": [
      "1\n",
      "2\n",
      "3\n"
     ]
    }
   ],
   "source": [
    "nums = [1, 2, 3]\n",
    "\n",
    "i_nums = iter(nums)\n",
    "\n",
    "while True:\n",
    "    try:\n",
    "        item = next(i_nums)\n",
    "        print(item)\n",
    "    except StopIteration:\n",
    "        break"
   ]
  }
 ],
 "metadata": {
  "kernelspec": {
   "display_name": "Python 3",
   "language": "python",
   "name": "python3"
  },
  "language_info": {
   "codemirror_mode": {
    "name": "ipython",
    "version": 3
   },
   "file_extension": ".py",
   "mimetype": "text/x-python",
   "name": "python",
   "nbconvert_exporter": "python",
   "pygments_lexer": "ipython3",
   "version": "3.7.6-final"
  }
 },
 "nbformat": 4,
 "nbformat_minor": 4
}